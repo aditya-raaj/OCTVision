{
 "cells": [
  {
   "cell_type": "code",
   "execution_count": 1,
   "id": "c19dc238",
   "metadata": {},
   "outputs": [],
   "source": [
    "import tensorflow as tf"
   ]
  },
  {
   "cell_type": "code",
   "execution_count": 2,
   "id": "17f5599b",
   "metadata": {},
   "outputs": [],
   "source": [
    "import matplotlib.pyplot as plt\n",
    "import seaborn as sns\n",
    "import pandas as pd\n",
    "from tensorflow.keras.utils import image_dataset_from_directory"
   ]
  },
  {
   "cell_type": "code",
   "execution_count": 3,
   "id": "c3d9df22",
   "metadata": {},
   "outputs": [
    {
     "name": "stdout",
     "output_type": "stream",
     "text": [
      "Found 76515 files belonging to 4 classes.\n"
     ]
    }
   ],
   "source": [
    "train_data=image_dataset_from_directory(\n",
    "    r\"..\\data\\retina\\train\",\n",
    "    labels=\"inferred\",\n",
    "    label_mode=\"categorical\",\n",
    "    class_names=None,\n",
    "    color_mode=\"rgb\",\n",
    "    batch_size=32,\n",
    "    image_size=(224, 224),\n",
    "    shuffle=True,\n",
    "    seed=None,\n",
    "    validation_split=None,\n",
    "    subset=None,\n",
    "    interpolation=\"bilinear\",\n",
    "    follow_links=False,\n",
    "    crop_to_aspect_ratio=False,\n",
    ")"
   ]
  },
  {
   "cell_type": "code",
   "execution_count": 4,
   "id": "8c38755e",
   "metadata": {},
   "outputs": [
    {
     "name": "stdout",
     "output_type": "stream",
     "text": [
      "Found 21861 files belonging to 4 classes.\n"
     ]
    }
   ],
   "source": [
    "valid_data=image_dataset_from_directory(\n",
    "    r\"..\\data\\retina\\val\",\n",
    "    labels=\"inferred\",\n",
    "    label_mode=\"categorical\",\n",
    "    class_names=None,\n",
    "    color_mode=\"rgb\",\n",
    "    batch_size=32,\n",
    "    image_size=(224, 224),\n",
    "    shuffle=True,\n",
    "    seed=None,\n",
    "    validation_split=None,\n",
    "    subset=None,\n",
    "    interpolation=\"bilinear\",\n",
    "    follow_links=False,\n",
    "    crop_to_aspect_ratio=False,\n",
    ")"
   ]
  },
  {
   "cell_type": "code",
   "execution_count": 5,
   "id": "511c5c24",
   "metadata": {},
   "outputs": [
    {
     "data": {
      "text/plain": [
       "<BatchDataset element_spec=(TensorSpec(shape=(None, 224, 224, 3), dtype=tf.float32, name=None), TensorSpec(shape=(None, 4), dtype=tf.float32, name=None))>"
      ]
     },
     "execution_count": 5,
     "metadata": {},
     "output_type": "execute_result"
    }
   ],
   "source": [
    "train_data"
   ]
  },
  {
   "cell_type": "code",
   "execution_count": 6,
   "id": "134edc0d",
   "metadata": {},
   "outputs": [],
   "source": [
    "INPUT_SHAPE=(224, 224, 3)"
   ]
  },
  {
   "cell_type": "code",
   "execution_count": 7,
   "id": "38645e6d",
   "metadata": {},
   "outputs": [],
   "source": [
    "mobile_net=tf.keras.applications.MobileNetV3Large(\n",
    "    input_shape=INPUT_SHAPE,\n",
    "    alpha=1.0,\n",
    "    minimalistic=False,\n",
    "    include_top=True,\n",
    "    weights=\"imagenet\",\n",
    "    input_tensor=None,\n",
    "    classes=1000,\n",
    "    pooling=None,\n",
    "    dropout_rate=0.2,\n",
    "    classifier_activation=\"softmax\",\n",
    "    include_preprocessing=True,\n",
    ")"
   ]
  },
  {
   "cell_type": "code",
   "execution_count": 8,
   "id": "1dc2a5db",
   "metadata": {},
   "outputs": [],
   "source": [
    "model=tf.keras.models.Sequential()"
   ]
  },
  {
   "cell_type": "code",
   "execution_count": 9,
   "id": "5af03fa9",
   "metadata": {},
   "outputs": [],
   "source": [
    "model.add(tf.keras.Input(shape=INPUT_SHAPE))"
   ]
  },
  {
   "cell_type": "code",
   "execution_count": 10,
   "id": "19fb056c",
   "metadata": {},
   "outputs": [],
   "source": [
    "model.add(mobile_net)"
   ]
  },
  {
   "cell_type": "code",
   "execution_count": 11,
   "id": "d16c5560",
   "metadata": {},
   "outputs": [],
   "source": [
    "model.add(tf.keras.layers.Dense(units=4,activation=\"softmax\"))"
   ]
  },
  {
   "cell_type": "code",
   "execution_count": 16,
   "id": "1d00b583",
   "metadata": {},
   "outputs": [],
   "source": [
    "metrics_list=['accuracy']"
   ]
  },
  {
   "cell_type": "code",
   "execution_count": 17,
   "id": "ef838f14",
   "metadata": {},
   "outputs": [],
   "source": [
    "model.compile(optimizer=tf.keras.optimizers.Adam(learning_rate=0.001),loss=\"categorical_crossentropy\",metrics=metrics_list)"
   ]
  },
  {
   "cell_type": "code",
   "execution_count": 18,
   "id": "37c6b5b7",
   "metadata": {},
   "outputs": [
    {
     "name": "stdout",
     "output_type": "stream",
     "text": [
      "Model: \"sequential\"\n",
      "_________________________________________________________________\n",
      " Layer (type)                Output Shape              Param #   \n",
      "=================================================================\n",
      " MobilenetV3large (Functiona  (None, 1000)             5507432   \n",
      " l)                                                              \n",
      "                                                                 \n",
      " dense (Dense)               (None, 4)                 4004      \n",
      "                                                                 \n",
      "=================================================================\n",
      "Total params: 5,511,436\n",
      "Trainable params: 5,487,036\n",
      "Non-trainable params: 24,400\n",
      "_________________________________________________________________\n"
     ]
    }
   ],
   "source": [
    "model.summary()"
   ]
  },
  {
   "cell_type": "code",
   "execution_count": 19,
   "id": "a1f610e8",
   "metadata": {},
   "outputs": [
    {
     "name": "stdout",
     "output_type": "stream",
     "text": [
      "Epoch 1/10\n"
     ]
    },
    {
     "name": "stdout",
     "output_type": "stream",
     "text": [
      "2392/2392 [==============================] - 304s 124ms/step - loss: 0.8246 - accuracy: 0.7639 - val_loss: 1.5332 - val_accuracy: 0.5179\n",
      "Epoch 2/10\n",
      "2392/2392 [==============================] - 300s 125ms/step - loss: 0.7215 - accuracy: 0.7799 - val_loss: 0.6729 - val_accuracy: 0.8126\n",
      "Epoch 3/10\n",
      "2392/2392 [==============================] - 306s 128ms/step - loss: 0.5941 - accuracy: 0.8045 - val_loss: 0.6959 - val_accuracy: 0.8009\n",
      "Epoch 4/10\n",
      "2392/2392 [==============================] - 298s 124ms/step - loss: 0.5487 - accuracy: 0.8253 - val_loss: 0.5787 - val_accuracy: 0.8179\n",
      "Epoch 5/10\n",
      "2392/2392 [==============================] - 297s 124ms/step - loss: 0.5178 - accuracy: 0.8433 - val_loss: 0.5100 - val_accuracy: 0.8225\n",
      "Epoch 6/10\n",
      "2392/2392 [==============================] - 298s 124ms/step - loss: 0.4711 - accuracy: 0.8584 - val_loss: 0.4427 - val_accuracy: 0.8658\n",
      "Epoch 7/10\n",
      "2392/2392 [==============================] - 300s 125ms/step - loss: 0.5000 - accuracy: 0.8426 - val_loss: 1.1231 - val_accuracy: 0.7021\n",
      "Epoch 8/10\n",
      "2392/2392 [==============================] - 337s 141ms/step - loss: 0.4793 - accuracy: 0.8530 - val_loss: 0.4866 - val_accuracy: 0.8481\n",
      "Epoch 9/10\n",
      "2392/2392 [==============================] - 300s 125ms/step - loss: 0.4418 - accuracy: 0.8649 - val_loss: 0.4562 - val_accuracy: 0.8620\n",
      "Epoch 10/10\n",
      "2392/2392 [==============================] - 301s 126ms/step - loss: 0.4546 - accuracy: 0.8607 - val_loss: 0.5376 - val_accuracy: 0.8496\n"
     ]
    }
   ],
   "source": [
    "training_history=model.fit(x=train_data,validation_data=valid_data,epochs=10,verbose=1)"
   ]
  },
  {
   "cell_type": "code",
   "execution_count": 20,
   "id": "b8022cbd",
   "metadata": {},
   "outputs": [],
   "source": [
    "model.save(\"./trained_retinal_model.h5\")"
   ]
  },
  {
   "cell_type": "code",
   "execution_count": 21,
   "id": "286f9aca",
   "metadata": {},
   "outputs": [
    {
     "data": {
      "text/plain": [
       "{'loss': [0.8245616555213928,\n",
       "  0.7215079069137573,\n",
       "  0.5941248536109924,\n",
       "  0.5486722588539124,\n",
       "  0.5177826285362244,\n",
       "  0.47114813327789307,\n",
       "  0.5000362992286682,\n",
       "  0.47929731011390686,\n",
       "  0.4418254792690277,\n",
       "  0.45460107922554016],\n",
       " 'accuracy': [0.7639286518096924,\n",
       "  0.7798863053321838,\n",
       "  0.8045481443405151,\n",
       "  0.8252760767936707,\n",
       "  0.8433117866516113,\n",
       "  0.8583937883377075,\n",
       "  0.8425537347793579,\n",
       "  0.8529961705207825,\n",
       "  0.8648500442504883,\n",
       "  0.8606939911842346],\n",
       " 'val_loss': [1.5331658124923706,\n",
       "  0.6729254722595215,\n",
       "  0.6959207653999329,\n",
       "  0.5786746144294739,\n",
       "  0.5099796652793884,\n",
       "  0.4426726996898651,\n",
       "  1.1231086254119873,\n",
       "  0.48656174540519714,\n",
       "  0.4562264084815979,\n",
       "  0.5375508069992065],\n",
       " 'val_accuracy': [0.517862856388092,\n",
       "  0.812588632106781,\n",
       "  0.8008782863616943,\n",
       "  0.8178948760032654,\n",
       "  0.8224692344665527,\n",
       "  0.86583411693573,\n",
       "  0.7020722031593323,\n",
       "  0.8480856418609619,\n",
       "  0.8620374202728271,\n",
       "  0.8495951890945435]}"
      ]
     },
     "execution_count": 21,
     "metadata": {},
     "output_type": "execute_result"
    }
   ],
   "source": [
    "training_history.history"
   ]
  },
  {
   "cell_type": "code",
   "execution_count": 23,
   "id": "f02be361",
   "metadata": {},
   "outputs": [],
   "source": [
    "import pickle"
   ]
  },
  {
   "cell_type": "code",
   "execution_count": 26,
   "id": "5625328f",
   "metadata": {},
   "outputs": [],
   "source": [
    "with open(\"training_history.pkl\",\"wb\") as f:\n",
    "    pickle.dump(training_history.history,f)"
   ]
  },
  {
   "cell_type": "code",
   "execution_count": 27,
   "id": "38b7f9e5",
   "metadata": {},
   "outputs": [
    {
     "name": "stdout",
     "output_type": "stream",
     "text": [
      "{'loss': [0.8245616555213928, 0.7215079069137573, 0.5941248536109924, 0.5486722588539124, 0.5177826285362244, 0.47114813327789307, 0.5000362992286682, 0.47929731011390686, 0.4418254792690277, 0.45460107922554016], 'accuracy': [0.7639286518096924, 0.7798863053321838, 0.8045481443405151, 0.8252760767936707, 0.8433117866516113, 0.8583937883377075, 0.8425537347793579, 0.8529961705207825, 0.8648500442504883, 0.8606939911842346], 'val_loss': [1.5331658124923706, 0.6729254722595215, 0.6959207653999329, 0.5786746144294739, 0.5099796652793884, 0.4426726996898651, 1.1231086254119873, 0.48656174540519714, 0.4562264084815979, 0.5375508069992065], 'val_accuracy': [0.517862856388092, 0.812588632106781, 0.8008782863616943, 0.8178948760032654, 0.8224692344665527, 0.86583411693573, 0.7020722031593323, 0.8480856418609619, 0.8620374202728271, 0.8495951890945435]}\n"
     ]
    }
   ],
   "source": [
    "with open(\"training_history.pkl\",\"rb\") as f:\n",
    "    load_history=pickle.load(f)\n",
    "print(load_history)"
   ]
  },
  {
   "cell_type": "code",
   "execution_count": 29,
   "id": "c607f5d3",
   "metadata": {},
   "outputs": [
    {
     "data": {
      "image/png": "[encoded data removed]",
      "text/plain": [
       "<Figure size 640x480 with 1 Axes>"
      ]
     },
     "metadata": {},
     "output_type": "display_data"
    }
   ],
   "source": [
    "epochs=[i for i in range(1,11)]\n",
    "plt.plot(epochs,load_history['loss'],color='red',label=\"Training Loss\")\n",
    "plt.plot(epochs,load_history['val_loss'],color='blue',label=\"Validation Loss\")\n",
    "plt.xlabel(\"No. of epochs\")\n",
    "plt.ylabel(\"Loss\")\n",
    "plt.title(\"Visualization of Loss Result\")\n",
    "plt.legend()\n",
    "plt.show()"
   ]
  },
  {
   "cell_type": "code",
   "execution_count": 30,
   "id": "c44af034",
   "metadata": {},
   "outputs": [],
   "source": [
    "model=tf.keras.models.load_model(\"trained_retinal_model.h5\")"
   ]
  },
  {
   "cell_type": "code",
   "execution_count": 31,
   "id": "95cc793d",
   "metadata": {},
   "outputs": [
    {
     "name": "stdout",
     "output_type": "stream",
     "text": [
      "Model: \"sequential\"\n",
      "_________________________________________________________________\n",
      " Layer (type)                Output Shape              Param #   \n",
      "=================================================================\n",
      " MobilenetV3large (Functiona  (None, 1000)             5507432   \n",
      " l)                                                              \n",
      "                                                                 \n",
      " dense (Dense)               (None, 4)                 4004      \n",
      "                                                                 \n",
      "=================================================================\n",
      "Total params: 5,511,436\n",
      "Trainable params: 5,487,036\n",
      "Non-trainable params: 24,400\n",
      "_________________________________________________________________\n"
     ]
    }
   ],
   "source": [
    "model.summary()"
   ]
  },
  {
   "cell_type": "code",
   "execution_count": 40,
   "id": "0fcd92d3",
   "metadata": {},
   "outputs": [
    {
     "name": "stdout",
     "output_type": "stream",
     "text": [
      "Found 10933 files belonging to 4 classes.\n"
     ]
    }
   ],
   "source": [
    "test_data=image_dataset_from_directory(\n",
    "    r\"..\\data\\retina\\test\",\n",
    "    labels=\"inferred\",\n",
    "    label_mode=\"categorical\",\n",
    "    class_names=None,\n",
    "    color_mode=\"rgb\",\n",
    "    batch_size=32,\n",
    "    image_size=(224, 224),\n",
    "    shuffle=False,\n",
    "    seed=None,\n",
    "    validation_split=None,\n",
    "    subset=None,\n",
    "    interpolation=\"bilinear\",\n",
    "    follow_links=False,\n",
    "    crop_to_aspect_ratio=False,\n",
    ")"
   ]
  },
  {
   "cell_type": "code",
   "execution_count": 41,
   "id": "bd4e332b",
   "metadata": {},
   "outputs": [
    {
     "name": "stdout",
     "output_type": "stream",
     "text": [
      "342/342 [==============================] - 13s 36ms/step - loss: 0.5437 - accuracy: 0.8483\n"
     ]
    }
   ],
   "source": [
    "test_loss,test_acc=model.evaluate(test_data)"
   ]
  },
  {
   "cell_type": "code",
   "execution_count": 42,
   "id": "4de8ed9a",
   "metadata": {},
   "outputs": [
    {
     "data": {
      "text/plain": [
       "<tf.Tensor: shape=(10933, 4), dtype=float32, numpy=\n",
       "array([[1., 0., 0., 0.],\n",
       "       [1., 0., 0., 0.],\n",
       "       [1., 0., 0., 0.],\n",
       "       ...,\n",
       "       [0., 0., 0., 1.],\n",
       "       [0., 0., 0., 1.],\n",
       "       [0., 0., 0., 1.]], dtype=float32)>"
      ]
     },
     "execution_count": 42,
     "metadata": {},
     "output_type": "execute_result"
    }
   ],
   "source": [
    "true_categories=tf.concat([y for x,y in test_data],axis=0)\n",
    "true_categories"
   ]
  },
  {
   "cell_type": "code",
   "execution_count": 43,
   "id": "baf2c17b",
   "metadata": {},
   "outputs": [
    {
     "data": {
      "text/plain": [
       "<tf.Tensor: shape=(10933,), dtype=int64, numpy=array([0, 0, 0, ..., 3, 3, 3], dtype=int64)>"
      ]
     },
     "execution_count": 43,
     "metadata": {},
     "output_type": "execute_result"
    }
   ],
   "source": [
    "y_true=tf.argmax(true_categories,axis=1)\n",
    "y_true"
   ]
  },
  {
   "cell_type": "code",
   "execution_count": 44,
   "id": "cec702c8",
   "metadata": {},
   "outputs": [
    {
     "name": "stdout",
     "output_type": "stream",
     "text": [
      "342/342 [==============================] - 10s 30ms/step\n"
     ]
    },
    {
     "data": {
      "text/plain": [
       "array([[0.7830443 , 0.0631032 , 0.13721617, 0.01663626],\n",
       "       [0.7830443 , 0.0631032 , 0.13721617, 0.01663626],\n",
       "       [0.7830443 , 0.0631032 , 0.13721617, 0.01663626],\n",
       "       ...,\n",
       "       [0.00345745, 0.01570681, 0.02315779, 0.957678  ],\n",
       "       [0.00345745, 0.01570681, 0.02315779, 0.957678  ],\n",
       "       [0.00345745, 0.01570681, 0.02315779, 0.957678  ]], dtype=float32)"
      ]
     },
     "execution_count": 44,
     "metadata": {},
     "output_type": "execute_result"
    }
   ],
   "source": [
    "predicted_categories=model.predict(test_data)\n",
    "predicted_categories"
   ]
  },
  {
   "cell_type": "code",
   "execution_count": 45,
   "id": "7bceb627",
   "metadata": {},
   "outputs": [
    {
     "data": {
      "text/plain": [
       "<tf.Tensor: shape=(10933,), dtype=int64, numpy=array([0, 0, 0, ..., 3, 3, 3], dtype=int64)>"
      ]
     },
     "execution_count": 45,
     "metadata": {},
     "output_type": "execute_result"
    }
   ],
   "source": [
    "y_pred=tf.argmax(predicted_categories,axis=1)\n",
    "y_pred"
   ]
  },
  {
   "cell_type": "code",
   "execution_count": null,
   "id": "a2bcf361",
   "metadata": {},
   "outputs": [],
   "source": []
  },
  {
   "cell_type": "code",
   "execution_count": 51,
   "id": "dea34d43",
   "metadata": {},
   "outputs": [],
   "source": [
    "from sklearn.metrics import classification_report"
   ]
  },
  {
   "cell_type": "code",
   "execution_count": 52,
   "id": "0a4b8e7b",
   "metadata": {},
   "outputs": [
    {
     "name": "stdout",
     "output_type": "stream",
     "text": [
      "              precision    recall  f1-score   support\n",
      "\n",
      "           0       0.77      0.98      0.86      3746\n",
      "           1       0.78      0.72      0.75      1161\n",
      "           2       0.00      0.00      0.00       887\n",
      "           3       0.94      0.93      0.93      5139\n",
      "\n",
      "    accuracy                           0.85     10933\n",
      "   macro avg       0.62      0.66      0.64     10933\n",
      "weighted avg       0.79      0.85      0.81     10933\n",
      "\n"
     ]
    }
   ],
   "source": [
    "print(classification_report(y_true,y_pred))"
   ]
  },
  {
   "cell_type": "code",
   "execution_count": 54,
   "id": "44a9d362",
   "metadata": {},
   "outputs": [],
   "source": [
    "from sklearn.metrics import confusion_matrix"
   ]
  },
  {
   "cell_type": "code",
   "execution_count": 56,
   "id": "40db10d1",
   "metadata": {},
   "outputs": [
    {
     "name": "stdout",
     "output_type": "stream",
     "text": [
      "[[3655   70    1   20]\n",
      " [ 143  831    0  187]\n",
      " [ 759   12    0  116]\n",
      " [ 198  148    5 4788]]\n"
     ]
    }
   ],
   "source": [
    "cm=confusion_matrix(y_true,y_pred)\n",
    "print(cm)"
   ]
  },
  {
   "cell_type": "code",
   "execution_count": 64,
   "id": "ccff8ce2",
   "metadata": {},
   "outputs": [
    {
     "data": {
      "image/png": "[encoded data removed]",
      "text/plain": [
       "<Figure size 1200x1200 with 2 Axes>"
      ]
     },
     "metadata": {},
     "output_type": "display_data"
    }
   ],
   "source": [
    "plt.figure(figsize=(12,12))\n",
    "sns.heatmap(cm,annot=True,annot_kws={\"size\":8})\n",
    "plt.xlabel(\"Predicted Class\",fontsize=10)\n",
    "plt.ylabel(\"Actual Class\",fontsize=10)\n",
    "plt.title(\"Human Eye Disease Prediction Confusion Matrix\",fontsize=20)\n",
    "plt.show()"
   ]
  },
  {
   "cell_type": "code",
   "execution_count": null,
   "id": "ccb00828",
   "metadata": {},
   "outputs": [],
   "source": []
  }
 ],
 "metadata": {
  "kernelspec": {
   "display_name": "tf",
   "language": "python",
   "name": "python3"
  },
  "language_info": {
   "codemirror_mode": {
    "name": "ipython",
    "version": 3
   },
   "file_extension": ".py",
   "mimetype": "text/x-python",
   "name": "python",
   "nbconvert_exporter": "python",
   "pygments_lexer": "ipython3",
   "version": "3.9.23"
  }
 },
 "nbformat": 4,
 "nbformat_minor": 5
}
